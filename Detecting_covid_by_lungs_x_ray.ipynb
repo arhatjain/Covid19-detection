{
  "cells": [
    {
      "cell_type": "code",
      "execution_count": null,
      "metadata": {
        "id": "DQzz7hpEwmU6"
      },
      "outputs": [],
      "source": [
        "import cv2 \n",
        "import os"
      ]
    },
    {
      "cell_type": "code",
      "execution_count": null,
      "metadata": {
        "id": "4MIEUSjrwmU8"
      },
      "outputs": [],
      "source": [
        "def Dataset_loader(DIR, RESIZE, sigmaX=10):\n",
        "    IMG = []\n",
        "    read = lambda imname: np.asarray(Image.open(imname).convert(\"RGB\"))\n",
        "    for IMAGE_NAME in tqdm(os.listdir(DIR)):\n",
        "        PATH = os.path.join(DIR,IMAGE_NAME)\n",
        "        _, ftype = os.path.splitext(PATH)\n",
        "        img = read(PATH)\n",
        "           \n",
        "        img = cv2.resize(img, (RESIZE,RESIZE))\n",
        "           \n",
        "        IMG.append(np.array(img))\n",
        "    return IMG\n"
      ]
    },
    {
      "cell_type": "code",
      "execution_count": null,
      "metadata": {
        "id": "en1uN2ofwmU_"
      },
      "outputs": [],
      "source": [
        "from PIL import Image"
      ]
    },
    {
      "cell_type": "code",
      "execution_count": null,
      "metadata": {
        "id": "3byYVL7wwmVA"
      },
      "outputs": [],
      "source": [
        "data_path_c=\"D:\\dl_dataset/lungs-xray/COVID PATIENTS/COVID\"\n",
        "data_path_n=\"D:\\dl_dataset/lungs-xray/NORMAL PATIENTS/NORMAL\"\n"
      ]
    },
    {
      "cell_type": "code",
      "execution_count": null,
      "metadata": {
        "id": "RMc1z5BKwmVC"
      },
      "outputs": [],
      "source": [
        "import numpy as np\n",
        "from tqdm import tqdm"
      ]
    },
    {
      "cell_type": "code",
      "execution_count": null,
      "metadata": {
        "id": "OkHS0WTwwmVC",
        "outputId": "9e7bbd03-09bf-4d16-da5a-e99c6abee227"
      },
      "outputs": [
        {
          "name": "stderr",
          "output_type": "stream",
          "text": [
            "100%|████████████████████████████████████████| 162/162 [00:08<00:00, 18.13it/s]\n",
            "100%|████████████████████████████████████████| 162/162 [00:08<00:00, 19.64it/s]\n"
          ]
        }
      ],
      "source": [
        "covid_train = np.array(Dataset_loader(data_path_c,150))\n",
        "normal_train = np.array(Dataset_loader(data_path_n,150))"
      ]
    },
    {
      "cell_type": "code",
      "execution_count": null,
      "metadata": {
        "id": "c5ziJTOKwmVE"
      },
      "outputs": [],
      "source": [
        "covid_train_label = np.zeros(len(covid_train))\n",
        "normal_train_label = np.ones(len(normal_train))"
      ]
    },
    {
      "cell_type": "code",
      "execution_count": null,
      "metadata": {
        "id": "z8sL7p3qwmVF"
      },
      "outputs": [],
      "source": [
        "X_train = np.concatenate((covid_train, normal_train), axis = 0)\n",
        "Y_train = np.concatenate((covid_train_label,normal_train_label), axis = 0)"
      ]
    },
    {
      "cell_type": "code",
      "execution_count": null,
      "metadata": {
        "id": "gOao-xa7wmVG",
        "outputId": "7fd0c447-49cb-476b-e448-374599378976"
      },
      "outputs": [
        {
          "name": "stderr",
          "output_type": "stream",
          "text": [
            "Using TensorFlow backend.\n"
          ]
        }
      ],
      "source": [
        "from keras.utils.np_utils import to_categorical\n",
        "Y_train = to_categorical(Y_train, num_classes= 2)"
      ]
    },
    {
      "cell_type": "code",
      "execution_count": null,
      "metadata": {
        "id": "axBh_nlxwmVH"
      },
      "outputs": [],
      "source": [
        "from sklearn.model_selection import train_test_split\n",
        "x_train, x_val, y_train, y_val = train_test_split(\n",
        "    X_train, Y_train, \n",
        "    test_size=0.2, \n",
        "    train_size=0.8,\n",
        "    random_state=5\n",
        ")\n"
      ]
    },
    {
      "cell_type": "code",
      "execution_count": null,
      "metadata": {
        "id": "QO2v4ijdwmVH"
      },
      "outputs": [],
      "source": [
        "from keras.preprocessing.image import ImageDataGenerator\n",
        "train_generator = ImageDataGenerator()"
      ]
    },
    {
      "cell_type": "code",
      "execution_count": null,
      "metadata": {
        "id": "JTl5f_guwmVJ"
      },
      "outputs": [],
      "source": [
        "from keras.models import Sequential\n",
        "from keras.optimizers import Adam\n",
        "import matplotlib.pyplot as plt\n",
        "import pandas as pd"
      ]
    },
    {
      "cell_type": "code",
      "execution_count": null,
      "metadata": {
        "id": "b5Wk2FFywmVJ"
      },
      "outputs": [],
      "source": [
        "from keras.applications import DenseNet201 \n",
        "from keras.callbacks import Callback, ModelCheckpoint, ReduceLROnPlateau, TensorBoard\n",
        "from keras import layers"
      ]
    },
    {
      "cell_type": "code",
      "execution_count": null,
      "metadata": {
        "id": "QfeGRtRjwmVK",
        "outputId": "5f3fa3b2-4525-4904-e018-d3a1f34704cd"
      },
      "outputs": [
        {
          "name": "stdout",
          "output_type": "stream",
          "text": [
            "Model: \"sequential_2\"\n",
            "_________________________________________________________________\n",
            "Layer (type)                 Output Shape              Param #   \n",
            "=================================================================\n",
            "densenet201 (Model)          (None, 4, 4, 1920)        18321984  \n",
            "_________________________________________________________________\n",
            "global_average_pooling2d_2 ( (None, 1920)              0         \n",
            "_________________________________________________________________\n",
            "dropout_2 (Dropout)          (None, 1920)              0         \n",
            "_________________________________________________________________\n",
            "batch_normalization_2 (Batch (None, 1920)              7680      \n",
            "_________________________________________________________________\n",
            "dense_2 (Dense)              (None, 2)                 3842      \n",
            "=================================================================\n",
            "Total params: 18,333,506\n",
            "Trainable params: 18,100,610\n",
            "Non-trainable params: 232,896\n",
            "_________________________________________________________________\n"
          ]
        }
      ],
      "source": [
        "\n",
        "def build_model(backbone, lr=1e-4):\n",
        "    model = Sequential()\n",
        "    model.add(backbone)\n",
        "    model.add(layers.GlobalAveragePooling2D())\n",
        "    model.add(layers.Dropout(0.5))\n",
        "    model.add(layers.BatchNormalization())\n",
        "    model.add(layers.Dense(2, activation='sigmoid'))\n",
        "    \n",
        "    model.compile(\n",
        "        loss='binary_crossentropy',\n",
        "        optimizer=Adam(lr=lr),\n",
        "        metrics=['accuracy']\n",
        "    )\n",
        "    return model\n",
        "\n",
        "resnet = DenseNet201(\n",
        "    weights='imagenet',\n",
        "    include_top=False,\n",
        "    input_shape=(150,150,3)\n",
        ")\n",
        "\n",
        "model = build_model(resnet ,lr = 1e-4)\n",
        "model.summary()"
      ]
    },
    {
      "cell_type": "code",
      "execution_count": null,
      "metadata": {
        "id": "LaaU_0_LwmVM",
        "outputId": "b902c113-411b-45be-ab6f-bc5017ee5840"
      },
      "outputs": [
        {
          "name": "stdout",
          "output_type": "stream",
          "text": [
            "Epoch 1/20\n",
            "26/25 [==============================] - 2806s 108s/step - loss: 0.5361 - accuracy: 0.7085 - val_loss: 0.5777 - val_accuracy: 0.7000\n"
          ]
        },
        {
          "name": "stderr",
          "output_type": "stream",
          "text": [
            "E:\\New folder\\envs\\computervision-env\\lib\\site-packages\\keras\\callbacks\\callbacks.py:1042: RuntimeWarning: Reduce LR on plateau conditioned on metric `val_acc` which is not available. Available metrics are: val_loss,val_accuracy,loss,accuracy,lr\n",
            "  (self.monitor, ','.join(list(logs.keys()))), RuntimeWarning\n",
            "E:\\New folder\\envs\\computervision-env\\lib\\site-packages\\keras\\callbacks\\callbacks.py:707: RuntimeWarning: Can save best model only with val_acc available, skipping.\n",
            "  'skipping.' % (self.monitor), RuntimeWarning)\n"
          ]
        },
        {
          "name": "stdout",
          "output_type": "stream",
          "text": [
            "Epoch 2/20\n",
            "26/25 [==============================] - 251s 10s/step - loss: 0.2041 - accuracy: 0.9228 - val_loss: 0.3643 - val_accuracy: 0.8250\n",
            "Epoch 3/20\n",
            "26/25 [==============================] - 53032s 2040s/step - loss: 0.1045 - accuracy: 0.9730 - val_loss: 0.2608 - val_accuracy: 0.8000\n",
            "Epoch 4/20\n",
            "26/25 [==============================] - 245s 9s/step - loss: 0.1058 - accuracy: 0.9691 - val_loss: 0.0393 - val_accuracy: 1.0000\n",
            "Epoch 5/20\n",
            "26/25 [==============================] - 250s 10s/step - loss: 0.0518 - accuracy: 0.9826 - val_loss: 0.0114 - val_accuracy: 1.0000\n",
            "Epoch 6/20\n",
            "26/25 [==============================] - 242s 9s/step - loss: 0.0491 - accuracy: 0.9865 - val_loss: 0.0201 - val_accuracy: 1.0000\n",
            "Epoch 7/20\n",
            "26/25 [==============================] - 247s 10s/step - loss: 0.0589 - accuracy: 0.9846 - val_loss: 0.0071 - val_accuracy: 1.0000\n",
            "Epoch 8/20\n",
            "26/25 [==============================] - 245s 9s/step - loss: 0.0300 - accuracy: 0.9961 - val_loss: 0.0015 - val_accuracy: 1.0000\n",
            "Epoch 9/20\n",
            "26/25 [==============================] - 250s 10s/step - loss: 0.0193 - accuracy: 0.9981 - val_loss: 0.0013 - val_accuracy: 1.0000\n",
            "Epoch 10/20\n",
            "26/25 [==============================] - 240s 9s/step - loss: 0.0489 - accuracy: 0.9884 - val_loss: 0.0020 - val_accuracy: 1.0000\n",
            "Epoch 11/20\n",
            "26/25 [==============================] - 251s 10s/step - loss: 0.0200 - accuracy: 0.9961 - val_loss: 0.0021 - val_accuracy: 1.0000\n",
            "Epoch 12/20\n",
            "26/25 [==============================] - 254s 10s/step - loss: 0.0158 - accuracy: 0.9961 - val_loss: 0.0012 - val_accuracy: 1.0000\n",
            "Epoch 13/20\n",
            "26/25 [==============================] - 244s 9s/step - loss: 0.0311 - accuracy: 0.9865 - val_loss: 0.0122 - val_accuracy: 1.0000\n",
            "Epoch 14/20\n",
            "26/25 [==============================] - 240s 9s/step - loss: 0.0432 - accuracy: 0.9865 - val_loss: 0.0428 - val_accuracy: 1.0000\n",
            "Epoch 15/20\n",
            "26/25 [==============================] - 246s 9s/step - loss: 0.0983 - accuracy: 0.9710 - val_loss: 0.0581 - val_accuracy: 0.9500\n",
            "Epoch 16/20\n",
            "26/25 [==============================] - 248s 10s/step - loss: 0.0373 - accuracy: 0.9884 - val_loss: 0.0080 - val_accuracy: 1.0000\n",
            "Epoch 17/20\n",
            "26/25 [==============================] - 250s 10s/step - loss: 0.0517 - accuracy: 0.9826 - val_loss: 0.0160 - val_accuracy: 1.0000\n",
            "Epoch 18/20\n",
            "26/25 [==============================] - 3388s 130s/step - loss: 0.0182 - accuracy: 0.9981 - val_loss: 0.0062 - val_accuracy: 1.0000\n",
            "Epoch 19/20\n",
            "26/25 [==============================] - 242s 9s/step - loss: 0.0302 - accuracy: 0.9942 - val_loss: 0.0121 - val_accuracy: 1.0000\n",
            "Epoch 20/20\n",
            "26/25 [==============================] - 238s 9s/step - loss: 0.0253 - accuracy: 0.9942 - val_loss: 0.0089 - val_accuracy: 1.0000\n"
          ]
        }
      ],
      "source": [
        "learn_control = ReduceLROnPlateau(monitor='val_acc', patience=5, min_lr=1e-7)\n",
        "\n",
        "filepath=\"weights.best.hdf5\"\n",
        "checkpoint = ModelCheckpoint(filepath, monitor='val_acc', save_best_only=True, mode='max')\n",
        "\n",
        "history = model.fit_generator(\n",
        "    train_generator.flow(x_train, y_train, batch_size=10),\n",
        "    steps_per_epoch=x_train.shape[0] / 10,\n",
        "    epochs=20,\n",
        "    validation_data=(x_train[:20], y_train[:20]),\n",
        "    callbacks=[learn_control, checkpoint]\n",
        ")"
      ]
    },
    {
      "cell_type": "code",
      "execution_count": null,
      "metadata": {
        "id": "FDKtJ0bQwmVN"
      },
      "outputs": [],
      "source": [
        "Y_pred_tta=model.predict(x_val)"
      ]
    },
    {
      "cell_type": "code",
      "execution_count": null,
      "metadata": {
        "id": "mvfmbmaSwmVO"
      },
      "outputs": [],
      "source": [
        "import matplotlib.pyplot as plt"
      ]
    },
    {
      "cell_type": "code",
      "execution_count": null,
      "metadata": {
        "id": "C60Bk6vgwmVO",
        "outputId": "7606103a-bf73-4386-ae61-d444492be7c3"
      },
      "outputs": [
        {
          "data": {
            "text/plain": [
              "<AxesSubplot:>"
            ]
          },
          "execution_count": 22,
          "metadata": {},
          "output_type": "execute_result"
        },
        {
          "data": {
            "image/png": "[encoded data removed]",
            "text/plain": [
              "<Figure size 432x288 with 1 Axes>"
            ]
          },
          "metadata": {
            "needs_background": "light"
          },
          "output_type": "display_data"
        },
        {
          "data": {
            "image/png": "[encoded data removed]",
            "text/plain": [
              "<Figure size 432x288 with 1 Axes>"
            ]
          },
          "metadata": {
            "needs_background": "light"
          },
          "output_type": "display_data"
        }
      ],
      "source": [
        "\n",
        "history_df = pd.DataFrame(history.history)\n",
        "history_df[['loss', 'val_loss']].plot()\n",
        "\n",
        "history_df = pd.DataFrame(history.history)\n",
        "history_df[['accuracy', 'val_accuracy']].plot()"
      ]
    },
    {
      "cell_type": "code",
      "execution_count": null,
      "metadata": {
        "id": "94leC5rrwmVP",
        "outputId": "78fc131c-26f0-4e5f-9f81-5455e54bb9a4"
      },
      "outputs": [
        {
          "name": "stdout",
          "output_type": "stream",
          "text": [
            "Confusion matrix, without normalization\n",
            "[[29  5]\n",
            " [ 0 31]]\n"
          ]
        },
        {
          "data": {
            "image/png": "[encoded data removed]",
            "text/plain": [
              "<Figure size 432x288 with 2 Axes>"
            ]
          },
          "metadata": {
            "needs_background": "light"
          },
          "output_type": "display_data"
        }
      ],
      "source": [
        "import itertools\n",
        "from sklearn.metrics import classification_report\n",
        "classification_report( np.argmax(y_val, axis=1), np.argmax(Y_pred_tta, axis=1))\n",
        "\n",
        "from sklearn.metrics import confusion_matrix\n",
        "\n",
        "def plot_confusion_matrix(cm, classes,\n",
        "                          normalize=False,\n",
        "                          title='Confusion matrix',\n",
        "                          cmap=plt.cm.Blues):\n",
        "    if normalize:\n",
        "        cm = cm.astype('float') / cm.sum(axis=1)[:, np.newaxis]\n",
        "        print(\"Normalized confusion matrix\")\n",
        "    else:\n",
        "        print('Confusion matrix, without normalization')\n",
        "\n",
        "    print(cm)\n",
        "\n",
        "    plt.imshow(cm, interpolation='nearest', cmap=cmap)\n",
        "    plt.title(title)\n",
        "    plt.colorbar()\n",
        "    tick_marks = np.arange(len(classes))\n",
        "    plt.xticks(tick_marks, classes, rotation=55)\n",
        "    plt.yticks(tick_marks, classes)\n",
        "    fmt = '.2f' if normalize else 'd'\n",
        "    thresh = cm.max() / 2.\n",
        "    for i, j in itertools.product(range(cm.shape[0]), range(cm.shape[1])):\n",
        "        plt.text(j, i, format(cm[i, j], fmt),\n",
        "                 horizontalalignment=\"center\",\n",
        "                 color=\"white\" if cm[i, j] > thresh else \"black\")\n",
        "\n",
        "    plt.ylabel('True label')\n",
        "    plt.xlabel('Predicted label')\n",
        "    plt.tight_layout()\n",
        "\n",
        "cm = confusion_matrix(np.argmax(y_val, axis=1), np.argmax(Y_pred_tta, axis=1))\n",
        "\n",
        "cm_plot_label =['COVID','NORMAL']\n",
        "plot_confusion_matrix(cm, cm_plot_label, title ='Confusion Metrix for Skin Cancer')"
      ]
    },
    {
      "cell_type": "code",
      "execution_count": null,
      "metadata": {
        "id": "tERlMkr7wmVQ",
        "outputId": "88ffa171-a6a7-440c-f920-2ba9544e0c27"
      },
      "outputs": [
        {
          "data": {
            "image/png": "[encoded data removed]",
            "text/plain": [
              "<Figure size 432x288 with 1 Axes>"
            ]
          },
          "metadata": {
            "needs_background": "light"
          },
          "output_type": "display_data"
        }
      ],
      "source": [
        "from sklearn.metrics import roc_auc_score, auc\n",
        "from sklearn.metrics import roc_curve\n",
        "roc_log = roc_auc_score(np.argmax(y_val, axis=1), np.argmax(Y_pred_tta, axis=1))\n",
        "false_positive_rate, true_positive_rate, threshold = roc_curve(np.argmax(y_val, axis=1), np.argmax(Y_pred_tta, axis=1))\n",
        "area_under_curve = auc(false_positive_rate, true_positive_rate)\n",
        "\n",
        "plt.plot([0, 1], [0, 1], 'r--')\n",
        "plt.plot(false_positive_rate, true_positive_rate, label='AUC = {:.3f}'.format(area_under_curve))\n",
        "plt.xlabel('False positive rate')\n",
        "plt.ylabel('True positive rate')\n",
        "plt.title('ROC curve')\n",
        "plt.legend(loc='best')\n",
        "plt.show()\n",
        "#plt.savefig(ROC_PLOT_FILE, bbox_inches='tight')\n",
        "plt.close()"
      ]
    },
    {
      "cell_type": "code",
      "execution_count": null,
      "metadata": {
        "id": "GaOPRUKqwmVQ"
      },
      "outputs": [],
      "source": [
        ""
      ]
    }
  ],
  "metadata": {
    "kernelspec": {
      "display_name": "Python 3",
      "language": "python",
      "name": "python3"
    },
    "language_info": {
      "codemirror_mode": {
        "name": "ipython",
        "version": 3
      },
      "file_extension": ".py",
      "mimetype": "text/x-python",
      "name": "python",
      "nbconvert_exporter": "python",
      "pygments_lexer": "ipython3",
      "version": "3.7.7"
    },
    "colab": {
      "name": "Detecting_covid_by lungs_x-ray.ipynb",
      "provenance": []
    }
  },
  "nbformat": 4,
  "nbformat_minor": 0
}